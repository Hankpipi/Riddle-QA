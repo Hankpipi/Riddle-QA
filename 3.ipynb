{
 "cells": [
  {
   "cell_type": "code",
   "execution_count": 25,
   "metadata": {},
   "outputs": [
    {
     "name": "stderr",
     "output_type": "stream",
     "text": [
      "WARNING:root:No sentence-transformers model found with name /data00/yuzihao.2001/.cache/torch/sentence_transformers/nghuyong_ernie-1.0. Creating a new one with MEAN pooling.\n",
      "Some weights of the model checkpoint at /data00/yuzihao.2001/.cache/torch/sentence_transformers/nghuyong_ernie-1.0 were not used when initializing BertModel: ['cls.predictions.bias', 'cls.predictions.transform.LayerNorm.weight', 'cls.predictions.transform.dense.bias', 'cls.predictions.transform.LayerNorm.bias', 'cls.predictions.transform.dense.weight', 'cls.predictions.decoder.weight', 'cls.predictions.decoder.bias']\n",
      "- This IS expected if you are initializing BertModel from the checkpoint of a model trained on another task or with another architecture (e.g. initializing a BertForSequenceClassification model from a BertForPreTraining model).\n",
      "- This IS NOT expected if you are initializing BertModel from the checkpoint of a model that you expect to be exactly identical (initializing a BertForSequenceClassification model from a BertForSequenceClassification model).\n"
     ]
    }
   ],
   "source": [
    "from sentence_transformers import SentenceTransformer, util\n",
    "from sentence_transformers import models\n",
    "from torch import nn\n",
    "\n",
    "# word_embedding_model = models.Transformer('nghuyong/ernie-1.0')\n",
    "# pooling_model = models.Pooling(word_embedding_model.get_word_embedding_dimension())\n",
    "# dense_model = models.Dense(\n",
    "#     in_features=pooling_model.get_sentence_embedding_dimension(), \n",
    "#     out_features=512,\n",
    "#     activation_function=nn.Tanh(),\n",
    "#     bias=True)\n",
    "\n",
    "# model = SentenceTransformer(modules=[word_embedding_model, pooling_model, dense_model])\n",
    "model = SentenceTransformer('nghuyong/ernie-1.0')"
   ]
  },
  {
   "cell_type": "code",
   "execution_count": 26,
   "metadata": {},
   "outputs": [],
   "source": [
    "import pandas as pd\n",
    "import json\n",
    "wiki_info = json.load(open('data/cleaned_wiki.json'))\n",
    "train_csv = pd.read_csv('data/train.csv')\n",
    "test_csv = pd.read_csv('data/val.csv')"
   ]
  },
  {
   "cell_type": "code",
   "execution_count": 27,
   "metadata": {},
   "outputs": [],
   "source": [
    "def preprocess(data, wiki_info): # use riddle and the explanation of each choice to compute the similarity\n",
    "    questions = []\n",
    "    contexts = []\n",
    "    labels = []\n",
    "    for idx, row in data.iterrows():\n",
    "        questions.append(f'{row[\"riddle\"]}')\n",
    "        labels.append(int(row['label']))\n",
    "        context = []\n",
    "        for i in range(5):\n",
    "            name = f'choice{i}'\n",
    "            explanation = wiki_info.get(row[name], '')\n",
    "            context.append(explanation)\n",
    "        contexts.append(context)\n",
    "    return questions, contexts, labels\n",
    "\n",
    "questions, contexts, labels = preprocess(train_csv, wiki_info)"
   ]
  },
  {
   "cell_type": "code",
   "execution_count": 28,
   "metadata": {},
   "outputs": [],
   "source": [
    "# training\n",
    "from sentence_transformers import InputExample, losses, evaluation\n",
    "from torch.utils.data import DataLoader\n",
    "\n",
    "train_examples = []\n",
    "valid_examples = []\n",
    "train_size = int(len(questions) * 0.9)\n",
    "eval_size = len(questions) - train_size\n",
    "\n",
    "# train dataset\n",
    "for i in range(train_size):\n",
    "   question, context, label = questions[i], contexts[i], labels[i]\n",
    "   for idx, text in enumerate(context):\n",
    "      if(label == idx):\n",
    "         train_examples.append(InputExample(texts=[question, text], label=1))\n",
    "         # increase ratio of positive example\n",
    "         train_examples.append(InputExample(texts=[question, text], label=1))\n",
    "         train_examples.append(InputExample(texts=[question, text], label=1))\n",
    "         train_examples.append(InputExample(texts=[question, text], label=1))\n",
    "\n",
    "      else:\n",
    "         train_examples.append(InputExample(texts=[question, text], label=0))\n",
    "\n",
    "# valid dataset\n",
    "sentences1 = []\n",
    "sentences2 = []\n",
    "scores = []\n",
    "for i in range(train_size, len(questions)):\n",
    "   question, context, label = questions[i], contexts[i], labels[i]\n",
    "   for idx, text in enumerate(context):\n",
    "      sentences1.append(question)\n",
    "      sentences2.append(text)\n",
    "      scores.append(label == idx)\n",
    "evaluator = evaluation.EmbeddingSimilarityEvaluator(sentences1, sentences2, scores)\n",
    "\n",
    "train_dataloader = DataLoader(train_examples, shuffle=True, batch_size=32)\n",
    "train_loss = losses.ContrastiveLoss(model, margin=0.50)"
   ]
  },
  {
   "cell_type": "code",
   "execution_count": 29,
   "metadata": {},
   "outputs": [
    {
     "data": {
      "application/vnd.jupyter.widget-view+json": {
       "model_id": "0ebeb53219d54917969db2baee3e0cba",
       "version_major": 2,
       "version_minor": 0
      },
      "text/plain": [
       "Epoch:   0%|          | 0/1 [00:00<?, ?it/s]"
      ]
     },
     "metadata": {},
     "output_type": "display_data"
    },
    {
     "data": {
      "application/vnd.jupyter.widget-view+json": {
       "model_id": "5e88201138da4881b2cfb996a3e1cef5",
       "version_major": 2,
       "version_minor": 0
      },
      "text/plain": [
       "Iteration:   0%|          | 0/900 [00:00<?, ?it/s]"
      ]
     },
     "metadata": {},
     "output_type": "display_data"
    }
   ],
   "source": [
    "model.fit(train_objectives=[(train_dataloader, train_loss)], \n",
    "            epochs=1, \n",
    "            warmup_steps=100, \n",
    "            optimizer_params={'lr': 2e-5}, \n",
    "            evaluator=evaluator, \n",
    "            evaluation_steps=100)"
   ]
  },
  {
   "cell_type": "code",
   "execution_count": null,
   "metadata": {},
   "outputs": [],
   "source": [
    "questions, contexts, labels = preprocess(test_csv, wiki_info)"
   ]
  },
  {
   "cell_type": "code",
   "execution_count": null,
   "metadata": {},
   "outputs": [
    {
     "name": "stdout",
     "output_type": "stream",
     "text": [
      "20: tp=9\n",
      "40: tp=16\n",
      "60: tp=25\n",
      "80: tp=35\n",
      "100: tp=47\n",
      "120: tp=60\n",
      "140: tp=72\n",
      "160: tp=81\n",
      "180: tp=90\n",
      "200: tp=101\n",
      "220: tp=106\n",
      "240: tp=118\n",
      "260: tp=127\n",
      "280: tp=138\n",
      "300: tp=152\n",
      "320: tp=165\n",
      "340: tp=177\n",
      "360: tp=186\n",
      "380: tp=194\n",
      "400: tp=203\n",
      "420: tp=216\n",
      "440: tp=223\n",
      "460: tp=232\n",
      "480: tp=245\n",
      "500: tp=254\n"
     ]
    }
   ],
   "source": [
    "# evaluate\n",
    "tot = 0\n",
    "tp = 0\n",
    "for question, context, label in zip(questions, contexts, labels):\n",
    "    pred = 0\n",
    "    val = 0\n",
    "    for idx, text in enumerate(context):\n",
    "        embeddings1 = model.encode(question, convert_to_tensor=True)\n",
    "        embeddings2 = model.encode(text, convert_to_tensor=True)\n",
    "        score = util.pytorch_cos_sim(embeddings1, embeddings2)\n",
    "        if score > val:\n",
    "            pred = idx\n",
    "            val = score\n",
    "    tp += (pred == label)\n",
    "    tot += 1\n",
    "    if tot % 20 == 0:\n",
    "        print(f'{tot}: tp={tp}')\n"
   ]
  },
  {
   "cell_type": "code",
   "execution_count": null,
   "metadata": {},
   "outputs": [
    {
     "data": {
      "text/plain": [
       "(254, 0.508)"
      ]
     },
     "execution_count": 24,
     "metadata": {},
     "output_type": "execute_result"
    }
   ],
   "source": [
    "tp, tp / len(questions)"
   ]
  }
 ],
 "metadata": {
  "interpreter": {
   "hash": "d014466924338881a3ad3fd5e4281ac308acaf6cedb5fd9658df967aca35b1d2"
  },
  "kernelspec": {
   "display_name": "Python 3.8.12 64-bit",
   "name": "python3"
  },
  "language_info": {
   "codemirror_mode": {
    "name": "ipython",
    "version": 3
   },
   "file_extension": ".py",
   "mimetype": "text/x-python",
   "name": "python",
   "nbconvert_exporter": "python",
   "pygments_lexer": "ipython3",
   "version": "3.8.12"
  },
  "orig_nbformat": 4
 },
 "nbformat": 4,
 "nbformat_minor": 2
}

{
 "cells": [
  {
   "cell_type": "code",
   "execution_count": 1,
   "metadata": {},
   "outputs": [
    {
     "name": "stderr",
     "output_type": "stream",
     "text": [
      "2021-12-10 23:15:19.500302: W tensorflow/stream_executor/platform/default/dso_loader.cc:64] Could not load dynamic library 'libcudart.so.11.0'; dlerror: libcudart.so.11.0: cannot open shared object file: No such file or directory\n",
      "2021-12-10 23:15:19.500353: I tensorflow/stream_executor/cuda/cudart_stub.cc:29] Ignore above cudart dlerror if you do not have a GPU set up on your machine.\n",
      "WARNING:root:No sentence-transformers model found with name /data00/yuzihao.2001/.cache/torch/sentence_transformers/nghuyong_ernie-1.0. Creating a new one with MEAN pooling.\n",
      "Some weights of the model checkpoint at /data00/yuzihao.2001/.cache/torch/sentence_transformers/nghuyong_ernie-1.0 were not used when initializing BertModel: ['cls.predictions.transform.dense.weight', 'cls.predictions.decoder.bias', 'cls.predictions.decoder.weight', 'cls.predictions.bias', 'cls.predictions.transform.LayerNorm.weight', 'cls.predictions.transform.dense.bias', 'cls.predictions.transform.LayerNorm.bias']\n",
      "- This IS expected if you are initializing BertModel from the checkpoint of a model trained on another task or with another architecture (e.g. initializing a BertForSequenceClassification model from a BertForPreTraining model).\n",
      "- This IS NOT expected if you are initializing BertModel from the checkpoint of a model that you expect to be exactly identical (initializing a BertForSequenceClassification model from a BertForSequenceClassification model).\n"
     ]
    }
   ],
   "source": [
    "from sentence_transformers import SentenceTransformer, util\n",
    "\n",
    "model = SentenceTransformer('nghuyong/ernie-1.0')"
   ]
  },
  {
   "cell_type": "code",
   "execution_count": 2,
   "metadata": {},
   "outputs": [],
   "source": [
    "import pandas as pd\n",
    "import json\n",
    "wiki_info = json.load(open('data/wiki_info_v2.json'))\n",
    "train_csv = pd.read_csv('data/train.csv')\n",
    "test_csv = pd.read_csv('data/val.csv')"
   ]
  },
  {
   "cell_type": "code",
   "execution_count": 3,
   "metadata": {},
   "outputs": [],
   "source": [
    "def preprocess(data, wiki_info): # use riddle and the explanation of each choice to compute the similarity\n",
    "    questions = []\n",
    "    contexts = []\n",
    "    labels = []\n",
    "    for idx, row in data.iterrows():\n",
    "        questions.append(f'{row[\"riddle\"]}')\n",
    "        labels.append(int(row['label']))\n",
    "        context = []\n",
    "        for i in range(5):\n",
    "            name = f'choice{i}'\n",
    "            explanation = wiki_info.get(row[name], '')\n",
    "            context.append(explanation)\n",
    "        contexts.append(context)\n",
    "    return questions, contexts, labels\n",
    "\n",
    "questions, contexts, labels = preprocess(train_csv, wiki_info)"
   ]
  },
  {
   "cell_type": "code",
   "execution_count": 4,
   "metadata": {},
   "outputs": [],
   "source": [
    "# training\n",
    "from sentence_transformers import InputExample, losses, evaluation\n",
    "from torch.utils.data import DataLoader\n",
    "\n",
    "train_examples = []\n",
    "valid_examples = []\n",
    "train_size = int(len(questions) * 0.8)\n",
    "eval_size = len(questions) - train_size\n",
    "\n",
    "# train dataset\n",
    "for i in range(train_size):\n",
    "   question, context, label = questions[i], contexts[i], labels[i]\n",
    "   for idx, text in enumerate(context):\n",
    "      if(label == idx):\n",
    "         train_examples.append(InputExample(texts=[question, context], label=1))\n",
    "         # increase ratio of positive example\n",
    "         train_examples.append(InputExample(texts=[question, context], label=1))\n",
    "         train_examples.append(InputExample(texts=[question, context], label=1))\n",
    "         train_examples.append(InputExample(texts=[question, context], label=1))\n",
    "\n",
    "      else:\n",
    "         train_examples.append(InputExample(texts=[question, context], label=0))\n",
    "\n",
    "# valid dataset\n",
    "sentences1 = []\n",
    "sentences2 = []\n",
    "scores = []\n",
    "for i in range(train_size, len(questions)):\n",
    "   question, context, label = questions[i], contexts[i], labels[i]\n",
    "   for idx, text in enumerate(context):\n",
    "      sentences1.append(question)\n",
    "      sentences2.append(text)\n",
    "      scores.append(label == idx)\n",
    "evaluator = evaluation.EmbeddingSimilarityEvaluator(sentences1, sentences2, scores)\n",
    "\n",
    "train_dataloader = DataLoader(train_examples, shuffle=True, batch_size=32)\n",
    "train_loss = losses.ContrastiveLoss(model, margin=0.1)"
   ]
  },
  {
   "cell_type": "code",
   "execution_count": 5,
   "metadata": {},
   "outputs": [
    {
     "data": {
      "application/vnd.jupyter.widget-view+json": {
       "model_id": "78cb2a65110b421e932a3562815f8b39",
       "version_major": 2,
       "version_minor": 0
      },
      "text/plain": [
       "Epoch:   0%|          | 0/1 [00:00<?, ?it/s]"
      ]
     },
     "metadata": {},
     "output_type": "display_data"
    },
    {
     "data": {
      "application/vnd.jupyter.widget-view+json": {
       "model_id": "144100ce2a4940f0b1361a11e4ed73ac",
       "version_major": 2,
       "version_minor": 0
      },
      "text/plain": [
       "Iteration:   0%|          | 0/800 [00:00<?, ?it/s]"
      ]
     },
     "metadata": {},
     "output_type": "display_data"
    }
   ],
   "source": [
    "model.fit(train_objectives=[(train_dataloader, train_loss)], \n",
    "            epochs=1, \n",
    "            warmup_steps=100, \n",
    "            optimizer_params={'lr': 5e-6}, \n",
    "            evaluator=evaluator, \n",
    "            evaluation_steps=100)"
   ]
  },
  {
   "cell_type": "code",
   "execution_count": 6,
   "metadata": {},
   "outputs": [],
   "source": [
    "questions, contexts, labels = preprocess(test_csv, wiki_info)"
   ]
  },
  {
   "cell_type": "code",
   "execution_count": 7,
   "metadata": {},
   "outputs": [],
   "source": [
    "# evaluate\n",
    "tp = 0\n",
    "for question, context, label in zip(questions, contexts, labels):\n",
    "    pred = 0\n",
    "    val = 0\n",
    "    for idx, text in enumerate(context):\n",
    "        embeddings1 = model.encode(question, convert_to_tensor=True)\n",
    "        embeddings2 = model.encode(text, convert_to_tensor=True)\n",
    "        score = util.pytorch_cos_sim(embeddings1, embeddings2)\n",
    "        if score > val:\n",
    "            pred = idx\n",
    "            val = score\n",
    "    tp += (pred == label)\n"
   ]
  },
  {
   "cell_type": "code",
   "execution_count": 8,
   "metadata": {},
   "outputs": [
    {
     "data": {
      "text/plain": [
       "(164, 0.328)"
      ]
     },
     "execution_count": 8,
     "metadata": {},
     "output_type": "execute_result"
    }
   ],
   "source": [
    "tp, tp / len(questions)"
   ]
  }
 ],
 "metadata": {
  "interpreter": {
   "hash": "d014466924338881a3ad3fd5e4281ac308acaf6cedb5fd9658df967aca35b1d2"
  },
  "kernelspec": {
   "display_name": "Python 3.8.12 64-bit",
   "name": "python3"
  },
  "language_info": {
   "codemirror_mode": {
    "name": "ipython",
    "version": 3
   },
   "file_extension": ".py",
   "mimetype": "text/x-python",
   "name": "python",
   "nbconvert_exporter": "python",
   "pygments_lexer": "ipython3",
   "version": "3.8.12"
  },
  "orig_nbformat": 4
 },
 "nbformat": 4,
 "nbformat_minor": 2
}
